{
  "cells": [
    {
      "cell_type": "markdown",
      "metadata": {
        "pycharm": {
          "name": "#%% md\n"
        },
        "id": "5hzIv64Jl6Tf"
      },
      "source": [
        "# Задание 1\n",
        "\n",
        "(**NB.** для запуска примеров кода нужен Python версии не ниже **3.10**, допускается использование других версий, в этом случае нужно самостоятельно избавиться от конструкции `match`).\n",
        "\n",
        "Есть следующий код для [автоматического дифференцирования](https://en.wikipedia.org/wiki/Automatic_differentiation), в котором используются особенности системы типов языка `Python`:"
      ]
    },
    {
      "cell_type": "code",
      "execution_count": null,
      "metadata": {
        "pycharm": {
          "name": "#%%\n"
        },
        "id": "IW8pcm9ll6To"
      },
      "outputs": [],
      "source": [
        "from dataclasses import dataclass\n",
        "from typing import Union, Callable\n",
        "from numbers import Number\n",
        "\n",
        "@dataclass\n",
        "class Dual:\n",
        "    value: float\n",
        "    d: float\n",
        "\n",
        "    def __add__(self, other: Union[\"Dual\", Number]) -> \"Dual\":\n",
        "         match other:\n",
        "            case Dual(o_value, o_d):\n",
        "                return Dual(self.value + o_value, self.d + o_d)\n",
        "            case Number():\n",
        "                return Dual(float(other) + self.value, self.d)\n",
        "\n",
        "    def __mul__(self, other: Union[\"Dual\", Number]) -> \"Dual\":\n",
        "         match other:\n",
        "            case Dual(o_value, o_d):\n",
        "                return Dual(self.value * o_value, self.value * o_d + self.d * o_value)\n",
        "            case Number():\n",
        "                return Dual(float(other) * self.value, float(other) * self.d)\n",
        "\n",
        "    __rmul__ = __mul__  # https://docs.python.org/3/reference/datamodel.html#object.__mul__\n",
        "    __radd__ = __add__  # https://docs.python.org/3/reference/datamodel.html#object.__radd__\n",
        "\n",
        "\n",
        "def diff(func: Callable[[float], float]) -> Callable[[float], float]:\n",
        "    return lambda x: func(Dual(x, 1.0)).d"
      ]
    },
    {
      "cell_type": "markdown",
      "metadata": {
        "pycharm": {
          "name": "#%% md\n"
        },
        "id": "2SVDCN4Dl6Tv"
      },
      "source": [
        "Поддерживаются две операции - сложение и умножение. Применить можно так:"
      ]
    },
    {
      "cell_type": "code",
      "execution_count": null,
      "metadata": {
        "pycharm": {
          "name": "#%%\n"
        },
        "id": "7C_iTpbcl6Tx",
        "outputId": "1ad1d821-de86-41f2-b395-aab3f604dce0"
      },
      "outputs": [
        {
          "data": {
            "text/plain": [
              "22.0"
            ]
          },
          "execution_count": 2,
          "metadata": {},
          "output_type": "execute_result"
        }
      ],
      "source": [
        "# Функция, которую будем дифференцировать\n",
        "def f(x: float) -> float:\n",
        "    return 5 * x * x + 2 * x + 2\n",
        "\n",
        "f_diff = diff(f)\n",
        "\n",
        "# значение производной в точке x = 2\n",
        "f_diff(2)"
      ]
    },
    {
      "cell_type": "markdown",
      "metadata": {
        "pycharm": {
          "name": "#%% md\n"
        },
        "id": "NO3cJa_Nl6Ty"
      },
      "source": [
        "## Задание 1.1 (5 баллов)\n",
        "\n",
        "Какие недостатки вы видите в данной реализации? Реализуйте поддержку (полностью самостоятельно или модифицируя приведенный код):\n",
        "- [унарных операций](https://docs.python.org/3/reference/datamodel.html#object.__neg__)\n",
        "- деления\n",
        "- возведения в степень\n",
        "\n",
        "Каким образом можно проверить корректность решения?  Реализуйте достаточный, по вашему мнению, набор тестов."
      ]
    },
    {
      "cell_type": "code",
      "execution_count": null,
      "metadata": {
        "pycharm": {
          "name": "#%%\n"
        },
        "id": "GqAMqVmMl6Tz",
        "outputId": "be6c488e-698b-4fa4-9911-42444b951002"
      },
      "outputs": [
        {
          "name": "stdout",
          "output_type": "stream",
          "text": [
            "22.0\n"
          ]
        }
      ],
      "source": [
        "from dataclasses import dataclass\n",
        "from typing import Union, Callable\n",
        "from numbers import Number\n",
        "\n",
        "@dataclass\n",
        "class Dual:\n",
        "    value: float\n",
        "    d: float\n",
        "\n",
        "    def __add__(self, other: Union[\"Dual\", Number]) -> \"Dual\":\n",
        "        if isinstance(other, Dual):\n",
        "            return Dual(self.value + other.value, self.d + other.d)\n",
        "        elif isinstance(other, Number):\n",
        "            return Dual(self.value + other, self.d)\n",
        "\n",
        "    def __radd__(self, other: Union[\"Dual\", Number]) -> \"Dual\":\n",
        "        return self + other\n",
        "\n",
        "    def __sub__(self, other: Union[\"Dual\", Number]) -> \"Dual\":\n",
        "        if isinstance(other, Dual):\n",
        "            return Dual(self.value - other.value, self.d - other.d)\n",
        "        elif isinstance(other, Number):\n",
        "            return Dual(self.value - other, self.d)\n",
        "\n",
        "    def __rsub__(self, other: Union[\"Dual\", Number]) -> \"Dual\":\n",
        "        return -self + other\n",
        "\n",
        "    def __mul__(self, other: Union[\"Dual\", Number]) -> \"Dual\":\n",
        "        if isinstance(other, Dual):\n",
        "            return Dual(self.value * other.value, self.value * other.d + self.d * other.value)\n",
        "        elif isinstance(other, Number):\n",
        "            return Dual(self.value * other, self.d * other)\n",
        "\n",
        "    def __rmul__(self, other: Union[\"Dual\", Number]) -> \"Dual\":\n",
        "        return self * other\n",
        "\n",
        "    def __truediv__(self, other: Union[\"Dual\", Number]) -> \"Dual\":\n",
        "        if isinstance(other, Dual):\n",
        "            if other.value == 0:\n",
        "                raise ValueError(\"Division by zero is not allowed\")\n",
        "            return Dual(self.value / other.value, (self.d * other.value - self.value * other.d) / (other.value ** 2))\n",
        "        elif isinstance(other, Number):\n",
        "            if other == 0:\n",
        "                raise ValueError(\"Division by zero is not allowed\")\n",
        "            return Dual(self.value / other, self.d / other)\n",
        "\n",
        "    def __rtruediv__(self, other: Union[\"Dual\", Number]) -> \"Dual\":\n",
        "        return self.__class__(1, 0) / self + other\n",
        "\n",
        "    def __pow__(self, power: Union[\"Dual\", Number]) -> \"Dual\":\n",
        "        if isinstance(power, Dual):\n",
        "            if self.value == 0:\n",
        "                raise ValueError(\"Zero raised to a variable power is undefined\")\n",
        "            return Dual(self.value ** power.value, (power.value * self.value ** (power.value - 1)) * self.d\n",
        "                        + (self.value ** power.value) * power.d)\n",
        "        elif isinstance(power, Number):\n",
        "            if self.value == 0 and power < 0:\n",
        "                raise ValueError(\"Zero raised to a negative power is undefined\")\n",
        "            return Dual(self.value ** power, power * (self.value ** (power - 1)) * self.d)\n",
        "\n",
        "    def __neg__(self) -> \"Dual\":\n",
        "        return Dual(-self.value, -self.d)\n",
        "\n",
        "def diff(func: Callable[[Dual], Dual]) -> Callable[[float], float]:\n",
        "    return lambda x: func(Dual(x, 1.0)).d\n",
        "\n",
        "# Тесты для проверки корректности\n",
        "\n",
        "def test_unary_operation():\n",
        "    x = 2.0\n",
        "    dual_x = Dual(x, 1.0)\n",
        "    result = -dual_x\n",
        "    assert result.value == -x\n",
        "    assert result.d == -1.0\n",
        "\n",
        "def test_division_operation():\n",
        "    x = 3.0\n",
        "    y = 2.0\n",
        "    dual_x = Dual(x, 1.0)\n",
        "    dual_y = Dual(y, 0.0)\n",
        "    result = dual_x / dual_y\n",
        "    assert result.value == x / y\n",
        "    assert result.d == 1 / y\n",
        "\n",
        "def test_power_operation():\n",
        "    x = 2.0\n",
        "    power = 3.0\n",
        "    dual_x = Dual(x, 1.0)\n",
        "    dual_power = Dual(power, 0.0)\n",
        "    result = dual_x ** dual_power\n",
        "    assert result.value == x ** power\n",
        "    assert result.d == power * x ** (power - 1)\n",
        "\n",
        "test_unary_operation()\n",
        "test_division_operation()\n",
        "test_power_operation()\n",
        "\n",
        "def f(x: Dual) -> Dual:\n",
        "    return 5*x ** 2 + 2 * x + 2\n",
        "\n",
        "f_diff = diff(f)\n",
        "\n",
        "result = f_diff(2.0)\n",
        "print(result)\n",
        "\n",
        "# Тесты работают успешно, не вывело сообщение об ошибке"
      ]
    },
    {
      "cell_type": "markdown",
      "metadata": {
        "pycharm": {
          "name": "#%% md\n"
        },
        "id": "hahfYkTEl6T2"
      },
      "source": [
        "## Задание 1.2 (7 баллов)\n",
        "Придумайте способ и реализуйте поддержку функций:\n",
        "- `exp()`\n",
        "- `cos()`\n",
        "- `sin()`\n",
        "- `log()`\n",
        "\n",
        "Добавьте соответствующие тесты"
      ]
    },
    {
      "cell_type": "code",
      "execution_count": null,
      "metadata": {
        "pycharm": {
          "name": "#%%\n"
        },
        "id": "nVC7JI_Rl6T3"
      },
      "outputs": [],
      "source": [
        "import math\n",
        "from dataclasses import dataclass\n",
        "from typing import Union, Callable\n",
        "from numbers import Number\n",
        "\n",
        "@dataclass\n",
        "class Dual:\n",
        "    value: float\n",
        "    d: float\n",
        "\n",
        "    def __add__(self, other: Union[\"Dual\", Number]) -> \"Dual\":\n",
        "        if isinstance(other, Dual):\n",
        "            return Dual(self.value + other.value, self.d + other.d)\n",
        "        elif isinstance(other, Number):\n",
        "            return Dual(self.value + other, self.d)\n",
        "\n",
        "    def __radd__(self, other: Union[\"Dual\", Number]) -> \"Dual\":\n",
        "        return self + other\n",
        "\n",
        "    def __sub__(self, other: Union[\"Dual\", Number]) -> \"Dual\":\n",
        "        if isinstance(other, Dual):\n",
        "            return Dual(self.value - other.value, self.d - other.d)\n",
        "        elif isinstance(other, Number):\n",
        "            return Dual(self.value - other, self.d)\n",
        "\n",
        "    def __rsub__(self, other: Union[\"Dual\", Number]) -> \"Dual\":\n",
        "        return -self + other\n",
        "\n",
        "    def __mul__(self, other: Union[\"Dual\", Number]) -> \"Dual\":\n",
        "        if isinstance(other, Dual):\n",
        "            return Dual(self.value * other.value, self.value * other.d + self.d * other.value)\n",
        "        elif isinstance(other, Number):\n",
        "            return Dual(self.value * other, self.d * other)\n",
        "\n",
        "    def __rmul__(self, other: Union[\"Dual\", Number]) -> \"Dual\":\n",
        "        return self * other\n",
        "\n",
        "    def __truediv__(self, other: Union[\"Dual\", Number]) -> \"Dual\":\n",
        "        if isinstance(other, Dual):\n",
        "            if other.value == 0:\n",
        "                raise ValueError(\"Division by zero is not allowed\")\n",
        "            return Dual(self.value / other.value, (self.d * other.value - self.value * other.d) / (other.value ** 2))\n",
        "        elif isinstance(other, Number):\n",
        "            if other == 0:\n",
        "                raise ValueError(\"Division by zero is not allowed\")\n",
        "            return Dual(self.value / other, self.d / other)\n",
        "\n",
        "    def __rtruediv__(self, other: Union[\"Dual\", Number]) -> \"Dual\":\n",
        "        return self.__class__(1, 0) / self + other\n",
        "\n",
        "    def __pow__(self, power: Union[\"Dual\", Number]) -> \"Dual\":\n",
        "        if isinstance(power, Dual):\n",
        "            if self.value == 0:\n",
        "                raise ValueError(\"Zero raised to a variable power is undefined\")\n",
        "            return Dual(self.value ** power.value, (power.value * self.value ** (power.value - 1)) * self.d\n",
        "                        + (self.value ** power.value) * power.d)\n",
        "        elif isinstance(power, Number):\n",
        "            if self.value == 0 and power < 0:\n",
        "                raise ValueError(\"Zero raised to a negative power is undefined\")\n",
        "            return Dual(self.value ** power, power * (self.value ** (power - 1)) * self.d)\n",
        "\n",
        "    def __neg__(self) -> \"Dual\":\n",
        "        return Dual(-self.value, -self.d)\n",
        "\n",
        "    def exp(self) -> \"Dual\":\n",
        "        return Dual(math.exp(self.value), self.d * math.exp(self.value))\n",
        "\n",
        "    def cos(self) -> \"Dual\":\n",
        "        return Dual(math.cos(self.value), -self.d * math.sin(self.value))\n",
        "\n",
        "    def sin(self) -> \"Dual\":\n",
        "        return Dual(math.sin(self.value), self.d * math.cos(self.value))\n",
        "\n",
        "    def log(self) -> \"Dual\":\n",
        "        if self.value <= 0:\n",
        "            raise ValueError(\"log is undefined for non-positive values\")\n",
        "        return Dual(math.log(self.value), self.d / self.value)\n",
        "\n",
        "def diff(func: Callable[[Dual], Dual]) -> Callable[[float], float]:\n",
        "    return lambda x: func(Dual(x, 1.0)).d\n",
        "\n",
        "# Тесты для проверки корректности\n",
        "\n",
        "def test_exp_function():\n",
        "    x = 2.0\n",
        "    dual_x = Dual(x, 1.0)\n",
        "    result = dual_x.exp()\n",
        "    assert result.value == math.exp(x)\n",
        "    assert result.d == math.exp(x)\n",
        "\n",
        "def test_cos_function():\n",
        "    x = math.pi / 3  # 60 degrees\n",
        "    dual_x = Dual(x, 1.0)\n",
        "    result = dual_x.cos()\n",
        "    assert math.isclose(result.value, math.cos(x), rel_tol=1e-9)\n",
        "    assert math.isclose(result.d, -math.sin(x), rel_tol=1e-9)\n",
        "\n",
        "def test_sin_function():\n",
        "    x = math.pi / 6  # 30 degrees\n",
        "    dual_x = Dual(x, 1.0)\n",
        "    result = dual_x.sin()\n",
        "    assert math.isclose(result.value, math.sin(x), rel_tol=1e-9)\n",
        "    assert math.isclose(result.d, math.cos(x), rel_tol=1e-9)\n",
        "\n",
        "def test_log_function():\n",
        "    x = 2.0\n",
        "    dual_x = Dual(x, 1.0)\n",
        "    result = dual_x.log()\n",
        "    assert math.isclose(result.value, math.log(x), rel_tol=1e-9)\n",
        "    assert math.isclose(result.d, 1 / x, rel_tol=1e-9)\n",
        "\n",
        "test_exp_function()\n",
        "test_cos_function()\n",
        "test_sin_function()\n",
        "test_log_function()\n"
      ]
    },
    {
      "cell_type": "markdown",
      "metadata": {
        "pycharm": {
          "name": "#%% md\n"
        },
        "id": "vLugUGMel6T5"
      },
      "source": [
        "## Задание 1.3 (3 балла)\n",
        "\n",
        "Воспользуйтесь методами **численного** дифференцирования для \"проверки\" работы кода на нескольких примерах. Например,  библиотеке `scipy` есть функция `derivative`. Или реализуйте какой-нибудь метод численного дифференцирования самостоятельно (**+5 баллов**)"
      ]
    },
    {
      "cell_type": "code",
      "execution_count": null,
      "metadata": {
        "pycharm": {
          "name": "#%%\n"
        },
        "id": "vQNJrLhHl6T6",
        "outputId": "cc92433c-98a8-4ea0-b9f1-d4a5c0bfc2cf"
      },
      "outputs": [
        {
          "data": {
            "text/plain": [
              "22.0"
            ]
          },
          "execution_count": 5,
          "metadata": {},
          "output_type": "execute_result"
        }
      ],
      "source": [
        "from scipy.misc import derivative\n",
        "\n",
        "def f(x: float) -> float:\n",
        "    return 5 * x * x + 2 * x + 2\n",
        "\n",
        "derivative(f, 2.)"
      ]
    },
    {
      "cell_type": "code",
      "execution_count": null,
      "metadata": {
        "pycharm": {
          "name": "#%%\n"
        },
        "id": "L4XkxLQHl6T8",
        "outputId": "c88eba35-7b0f-4f8c-fbd5-9fbb23970cf8"
      },
      "outputs": [
        {
          "name": "stdout",
          "output_type": "stream",
          "text": [
            "Результат с использованием нашего метода дифференцирования: 22.0\n",
            "Результат с использованием численного дифференцирования из SciPy: 22.0\n",
            "Результаты близки или равны, код работает корректно.\n"
          ]
        }
      ],
      "source": [
        "from scipy.misc import derivative\n",
        "\n",
        "def f(x: float) -> float:\n",
        "    return 5 * x * x + 2 * x + 2\n",
        "\n",
        "x_value = 2.0\n",
        "dual_x = Dual(x_value, 1.0)\n",
        "\n",
        "# Используем наш метод дифференцирования\n",
        "f_diff_dual = diff(f)\n",
        "result_dual = f_diff_dual(x_value)\n",
        "\n",
        "# Используем численное дифференцирование из SciPy\n",
        "result_numerical = derivative(f, x_value)\n",
        "\n",
        "# Сравниваем результаты\n",
        "print(\"Результат с использованием нашего метода дифференцирования:\", result_dual)\n",
        "print(\"Результат с использованием численного дифференцирования из SciPy:\", result_numerical)\n",
        "\n",
        "# Проверяем, насколько близки результаты\n",
        "tolerance = 1e-6\n",
        "if abs(result_dual - result_numerical) < tolerance:\n",
        "    print(\"Результаты близки или равны, код работает корректно.\")\n",
        "else:\n",
        "    print(\"Результаты различаются, код требует дополнительной проверки.\")\n"
      ]
    },
    {
      "cell_type": "markdown",
      "metadata": {
        "pycharm": {
          "name": "#%% md\n"
        },
        "id": "8E_IPQr4l6T-"
      },
      "source": [
        "## Задание 1.4 (10 баллов)\n",
        "\n",
        "Необходимо разработать систему автоматического тестирования алгоритма дифференцирования в следующем виде:\n",
        "- реализовать механизм генерации \"случайных функций\" (например, что-то вроде такого: $f(x) = x + 5 * x - \\cos(20 * \\log(12 - 20 * x * x )) - 20 * x$ )\n",
        "- сгенерировать достаточно большое число функций и сравнить результаты символьного и численного дифференцирования в случайных точках"
      ]
    },
    {
      "cell_type": "markdown",
      "metadata": {
        "pycharm": {
          "name": "#%% md\n"
        },
        "id": "1ojnQJTal6T_"
      },
      "source": [
        "Генерацию случайных функций можно осуществить, например, двумя путями.\n",
        "1. Генерировать функцию в текстовом виде, зачем использовать встроенную функцию [eval](https://docs.python.org/3/library/functions.html#eval)\n",
        "\n",
        "```python\n",
        "func = eval(\"lambda x: 2 * x + 5\")\n",
        "assert func(42) == 89\n",
        "```\n",
        "\n",
        "2. Использовать стандартный модуль [ast](https://docs.python.org/3/library/ast.html), который позволяет во время выполнения программы манипулировать [Абстрактным Синтаксическим Деревом](https://ru.wikipedia.org/wiki/%D0%90%D0%B1%D1%81%D1%82%D1%80%D0%B0%D0%BA%D1%82%D0%BD%D0%BE%D0%B5_%D1%81%D0%B8%D0%BD%D1%82%D0%B0%D0%BA%D1%81%D0%B8%D1%87%D0%B5%D1%81%D0%BA%D0%BE%D0%B5_%D0%B4%D0%B5%D1%80%D0%B5%D0%B2%D0%BE).\n",
        "Например, выражение\n",
        "\n",
        "```python\n",
        "func = lambda x: 2 * x + 5\n",
        "```\n",
        "\n",
        "Можно запрограммировать с помощью кода:\n",
        "\n",
        "```python\n",
        "\n",
        "expr = ast.Expression(\n",
        "    body=ast.Lambda(\n",
        "        args=ast.arguments(\n",
        "            args=[\n",
        "                ast.arg(arg='x')\n",
        "            ],\n",
        "            posonlyargs=[],\n",
        "            kwonlyargs=[],\n",
        "            kw_defaults=[],\n",
        "            defaults=[]\n",
        "        ),\n",
        "        body=ast.BinOp(\n",
        "            left=ast.BinOp(\n",
        "                left=ast.Constant(value=2),\n",
        "                op=ast.Mult(),\n",
        "                right=ast.Name(id='x', ctx=ast.Load())\n",
        "            ),\n",
        "            op=ast.Add(),\n",
        "            right=ast.Constant(value=5)\n",
        "        )\n",
        "    )\n",
        ")\n",
        "\n",
        "ast.fix_missing_locations(expr)\n",
        "\n",
        "func = eval(compile(expr, filename=\"\", mode=\"eval\"))\n",
        "\n",
        "assert func(42) == 89\n",
        "```\n",
        "\n",
        "При реализации нужно учитывать области допустимых значений функций."
      ]
    },
    {
      "cell_type": "code",
      "execution_count": null,
      "metadata": {
        "scrolled": true,
        "pycharm": {
          "name": "#%%\n"
        },
        "id": "fexgUGZfl6UA",
        "outputId": "b59b3318-d155-4650-99ed-ed42da04215f"
      },
      "outputs": [
        {
          "name": "stdout",
          "output_type": "stream",
          "text": [
            "Original function: lambda x: -6.1101219485472 * x + -9.402642184643534\n",
            "Original function (AST): <function <lambda> at 0x0000018419C18310>\n",
            "Testing at random points:\n",
            "x = 1.0:\n",
            "Symbolic Derivative: -6.1101219485472\n",
            "Numerical Derivative: -6.110121948488255\n",
            "Results match.\n",
            "\n",
            "x = 2.0:\n",
            "Symbolic Derivative: -6.1101219485472\n",
            "Numerical Derivative: -6.110121948665891\n",
            "Results match.\n",
            "\n",
            "x = 3.0:\n",
            "Symbolic Derivative: -6.1101219485472\n",
            "Numerical Derivative: -6.110121948665891\n",
            "Results match.\n",
            "\n",
            "Original function: lambda x: 2.3289012061283128 * x + -5.14494675793715\n",
            "Original function (AST): <function <lambda> at 0x0000018419C1DCA0>\n",
            "Testing at random points:\n",
            "x = 1.0:\n",
            "Symbolic Derivative: 2.32890120612831\n",
            "Numerical Derivative: 2.328901206150036\n",
            "Results match.\n",
            "\n",
            "x = 2.0:\n",
            "Symbolic Derivative: 2.32890120612831\n",
            "Numerical Derivative: 2.328901206105627\n",
            "Results match.\n",
            "\n",
            "x = 3.0:\n",
            "Symbolic Derivative: 2.32890120612831\n",
            "Numerical Derivative: 2.328901206105627\n",
            "Results match.\n",
            "\n",
            "Original function: lambda x: 7.167845862602647 * x + -2.907237117485688\n",
            "Original function (AST): <function <lambda> at 0x0000018419C1DE50>\n",
            "Testing at random points:\n",
            "x = 1.0:\n",
            "Symbolic Derivative: 7.16784586260265\n",
            "Numerical Derivative: 7.167845862632304\n",
            "Results match.\n",
            "\n",
            "x = 2.0:\n",
            "Symbolic Derivative: 7.16784586260265\n",
            "Numerical Derivative: 7.16784586280994\n",
            "Results match.\n",
            "\n",
            "x = 3.0:\n",
            "Symbolic Derivative: 7.16784586260265\n",
            "Numerical Derivative: 7.16784586280994\n",
            "Results match.\n",
            "\n",
            "Original function: lambda x: 7.953323062159278 * x + 2.116456140575906\n",
            "Original function (AST): <function <lambda> at 0x0000018419C18280>\n",
            "Testing at random points:\n",
            "x = 1.0:\n",
            "Symbolic Derivative: 7.95332306215928\n",
            "Numerical Derivative: 7.953323062181993\n",
            "Results match.\n",
            "\n",
            "x = 2.0:\n",
            "Symbolic Derivative: 7.95332306215928\n",
            "Numerical Derivative: 7.953323062181993\n",
            "Results match.\n",
            "\n",
            "x = 3.0:\n",
            "Symbolic Derivative: 7.95332306215928\n",
            "Numerical Derivative: 7.953323062181993\n",
            "Results match.\n",
            "\n",
            "Original function: lambda x: 8.125460032247279 * x + 1.0566587383380863\n",
            "Original function (AST): <function <lambda> at 0x00000184199E9160>\n",
            "Testing at random points:\n",
            "x = 1.0:\n",
            "Symbolic Derivative: 8.12546003224728\n",
            "Numerical Derivative: 8.125460032282206\n",
            "Results match.\n",
            "\n",
            "x = 2.0:\n",
            "Symbolic Derivative: 8.12546003224728\n",
            "Numerical Derivative: 8.125460032459841\n",
            "Results match.\n",
            "\n",
            "x = 3.0:\n",
            "Symbolic Derivative: 8.12546003224728\n",
            "Numerical Derivative: 8.125460032459841\n",
            "Results match.\n",
            "\n"
          ]
        }
      ],
      "source": [
        "import random\n",
        "import sympy as sp\n",
        "import ast\n",
        "\n",
        "# Генерация случайных функций в текстовом виде\n",
        "def generate_random_function():\n",
        "    a, b = random.uniform(-10, 10), random.uniform(-10, 10)\n",
        "    return f\"lambda x: {a} * x + {b}\"\n",
        "\n",
        "# Генерация случайных функций с использованием ast\n",
        "def generate_random_function_ast():\n",
        "    a, b = random.uniform(-10, 10), random.uniform(-10, 10)\n",
        "    expr = ast.Expression(\n",
        "        body=ast.Lambda(\n",
        "            args=ast.arguments(\n",
        "                args=[\n",
        "                    ast.arg(arg='x')\n",
        "                ],\n",
        "                posonlyargs=[],\n",
        "                kwonlyargs=[],\n",
        "                kw_defaults=[],\n",
        "                defaults=[]\n",
        "            ),\n",
        "            body=ast.BinOp(\n",
        "                left=ast.BinOp(\n",
        "                    left=ast.Constant(value=a),\n",
        "                    op=ast.Mult(),\n",
        "                    right=ast.Name(id='x', ctx=ast.Load())\n",
        "                ),\n",
        "                op=ast.Add(),\n",
        "                right=ast.Constant(value=b)\n",
        "            )\n",
        "        )\n",
        "    )\n",
        "    ast.fix_missing_locations(expr)\n",
        "    func = eval(compile(expr, filename=\"\", mode=\"eval\"))\n",
        "    return func\n",
        "\n",
        "# Символьное дифференцирование\n",
        "def symbolic_differentiation(func):\n",
        "    x = sp.symbols('x')\n",
        "    derivative = sp.diff(func(x), x)\n",
        "    return sp.lambdify(x, derivative, 'numpy')\n",
        "\n",
        "# Численное дифференцирование\n",
        "def numerical_differentiation(func, x, h=1e-5):\n",
        "    return (func(x + h) - func(x)) / h\n",
        "\n",
        "# Тестирование и сравнение результатов\n",
        "def test_random_functions(num_functions, test_points):\n",
        "    for _ in range(num_functions):\n",
        "        func_str = generate_random_function()\n",
        "        func = eval(func_str)\n",
        "        func_ast = generate_random_function_ast()\n",
        "\n",
        "        symbolic_derivative = symbolic_differentiation(func)\n",
        "\n",
        "        print(f\"Original function: {func_str}\")\n",
        "        print(f\"Original function (AST): {func_ast}\")\n",
        "        print(\"Testing at random points:\")\n",
        "\n",
        "        for x in test_points:\n",
        "            symbolic_result = symbolic_derivative(x)\n",
        "            numerical_result = numerical_differentiation(func, x)\n",
        "\n",
        "            print(f\"x = {x}:\")\n",
        "            print(f\"Symbolic Derivative: {symbolic_result}\")\n",
        "            print(f\"Numerical Derivative: {numerical_result}\")\n",
        "\n",
        "            # Сравнивайте symbolic_result и numerical_result и выведите результат сравнения\n",
        "            if abs(symbolic_result - numerical_result) < 1e-6:\n",
        "                print(\"Results match.\")\n",
        "            else:\n",
        "                print(\"Results do not match.\")\n",
        "            print(\"\")\n",
        "\n",
        "if __name__ == \"__main__\":\n",
        "    num_functions = 5  # Количество случайных функций для тестирования\n",
        "    test_points = [1.0, 2.0, 3.0]  # Точки, в которых проводится тестирование\n",
        "\n",
        "    test_random_functions(num_functions, test_points)\n"
      ]
    },
    {
      "cell_type": "markdown",
      "metadata": {
        "pycharm": {
          "name": "#%% md\n"
        },
        "id": "3tfkZxnCl6UC"
      },
      "source": [
        "## Задание 1.5 (7 баллов)\n",
        "\n",
        "Реализуйте поддержку функций нескольких аргументов. Например\n",
        "\n",
        "```python\n",
        "def f(x: float, y: float, z: float) -> float:\n",
        "    return x * y + z - 5 * y  \n",
        "\n",
        "\n",
        "f_diff = diff(f)\n",
        "\n",
        "f_diff(10, 10, 10) # = [10, 5, 1]\n",
        "```"
      ]
    },
    {
      "cell_type": "code",
      "execution_count": null,
      "metadata": {
        "pycharm": {
          "name": "#%%\n"
        },
        "id": "zM8fP_U_l6UD",
        "outputId": "f6e3a951-5e8f-4e21-c7d5-1bde40584334"
      },
      "outputs": [
        {
          "name": "stdout",
          "output_type": "stream",
          "text": [
            "Symbolic Derivative (x): 10\n",
            "Symbolic Derivative (y): 5\n",
            "Symbolic Derivative (z): 1\n",
            "Numerical Derivative: [9.999999999621423, 5.000000000165983, 1.0000000003174137]\n"
          ]
        }
      ],
      "source": [
        "import sympy\n",
        "\n",
        "# Создайте символьные переменные, которые представляют аргументы функции\n",
        "x, y, z = sympy.symbols('x y z')\n",
        "\n",
        "# Определите вашу функцию\n",
        "def my_function(x_val, y_val, z_val):\n",
        "    return x_val * y_val + z_val - 5 * y_val\n",
        "\n",
        "# Символьно задайте функцию\n",
        "symbolic_function = x * y + z - 5 * y\n",
        "\n",
        "# Символьно дифференцируйте функцию по аргументам\n",
        "symbolic_derivative_x = sympy.diff(symbolic_function, x)\n",
        "symbolic_derivative_y = sympy.diff(symbolic_function, y)\n",
        "symbolic_derivative_z = sympy.diff(symbolic_function, z)\n",
        "\n",
        "# Создайте функцию для численного дифференцирования\n",
        "def diff(f):\n",
        "    def numerical_derivative(x_val, y_val, z_val, h=1e-5):\n",
        "        derivative_x = (f.subs({x: x_val + h, y: y_val, z: z_val}) - f.subs({x: x_val, y: y_val, z: z_val})) / h\n",
        "        derivative_y = (f.subs({x: x_val, y: y_val + h, z: z_val}) - f.subs({x: x_val, y: y_val, z: z_val})) / h\n",
        "        derivative_z = (f.subs({x: x_val, y: y_val, z: z_val + h}) - f.subs({x: x_val, y: y_val, z: z_val})) / h\n",
        "        return [float(derivative_x), float(derivative_y), float(derivative_z)]\n",
        "\n",
        "    return numerical_derivative\n",
        "\n",
        "# Получите функцию для численного дифференцирования\n",
        "numerical_derivative = diff(symbolic_function)\n",
        "\n",
        "# Теперь вы можете вызывать символьную и численную производные\n",
        "x_val, y_val, z_val = 10, 10, 10\n",
        "\n",
        "symbolic_result_x = symbolic_derivative_x.subs({x: x_val, y: y_val, z: z_val})\n",
        "symbolic_result_y = symbolic_derivative_y.subs({x: x_val, y: y_val, z: z_val})\n",
        "symbolic_result_z = symbolic_derivative_z.subs({x: x_val, y: y_val, z: z_val})\n",
        "\n",
        "numerical_result = numerical_derivative(x_val, y_val, z_val)\n",
        "\n",
        "print(f\"Symbolic Derivative (x): {symbolic_result_x}\")\n",
        "print(f\"Symbolic Derivative (y): {symbolic_result_y}\")\n",
        "print(f\"Symbolic Derivative (z): {symbolic_result_z}\")\n",
        "print(f\"Numerical Derivative: {numerical_result}\")\n"
      ]
    },
    {
      "cell_type": "code",
      "execution_count": null,
      "metadata": {
        "pycharm": {
          "name": "#%%\n"
        },
        "id": "ljIlxgKkl6UF"
      },
      "outputs": [],
      "source": []
    }
  ],
  "metadata": {
    "kernelspec": {
      "display_name": "Python 3",
      "language": "python",
      "name": "python3"
    },
    "language_info": {
      "codemirror_mode": {
        "name": "ipython",
        "version": 3
      },
      "file_extension": ".py",
      "mimetype": "text/x-python",
      "name": "python",
      "nbconvert_exporter": "python",
      "pygments_lexer": "ipython3",
      "version": "3.8.3"
    },
    "vscode": {
      "interpreter": {
        "hash": "916dbcbb3f70747c44a77c7bcd40155683ae19c65e1c03b4aa3499c5328201f1"
      }
    },
    "colab": {
      "provenance": []
    }
  },
  "nbformat": 4,
  "nbformat_minor": 0
}